{
 "cells": [
  {
   "cell_type": "code",
   "execution_count": null,
   "metadata": {
    "ExecuteTime": {
     "end_time": "2019-11-23T16:40:53.772748Z",
     "start_time": "2019-11-23T16:40:53.506390Z"
    }
   },
   "outputs": [],
   "source": [
    "from bs4 import BeautifulSoup\n",
    "import requests\n",
    "import json"
   ]
  },
  {
   "cell_type": "code",
   "execution_count": null,
   "metadata": {
    "ExecuteTime": {
     "end_time": "2019-11-23T16:40:54.050966Z",
     "start_time": "2019-11-23T16:40:54.045982Z"
    }
   },
   "outputs": [],
   "source": [
    "def fill(arr):\n",
    "    if (arr is None) or len(arr) == 0:\n",
    "        return 'null'\n",
    "    else:\n",
    "        return arr[0].text"
   ]
  },
  {
   "cell_type": "code",
   "execution_count": null,
   "metadata": {
    "ExecuteTime": {
     "end_time": "2019-11-23T17:57:07.683086Z",
     "start_time": "2019-11-23T16:40:54.775192Z"
    },
    "scrolled": false
   },
   "outputs": [],
   "source": [
    "FIRST = 18\n",
    "LAST = 157\n",
    "\n",
    "with open('realtby.csv', mode='a', encoding='utf-8') as file:\n",
    "    for i in range(FIRST, LAST+1):\n",
    "        # TO DO: set ping\n",
    "        page_with_ads = requests.get('https://realt.by/sale/flats/', params={'page': i}).text\n",
    "        page_soup = BeautifulSoup(page_with_ads)\n",
    "        tags_with_links = page_soup.select('.title a[target]')\n",
    "        for j, tag in enumerate(tags_with_links):\n",
    "            link = tag.attrs['href']\n",
    "            ad_page = requests.get(link).text\n",
    "            soup = BeautifulSoup(ad_page)\n",
    "            name = fill(soup.select('h1'))\n",
    "            views_num = fill(soup.select('.views-control span'))\n",
    "            area = fill(soup.select(\"tr:contains('Область') a\"))\n",
    "            map_ = soup.find('div', id=\"map\")\n",
    "            if not map_ is None:\n",
    "                coords = json.loads(map_.contents[1].attrs['data-center'])['position.']\n",
    "                x = coords['x']\n",
    "                y = coords['y']\n",
    "            else:\n",
    "                x = 'null'\n",
    "                y = 'null'\n",
    "            city = fill(soup.select('.table-row-right a strong'))\n",
    "            address = fill(soup.select(\"tr.odd:contains('Адрес') td.table-row-right\"))\n",
    "            district = fill(soup.select(\"tr:contains('Район города') a:nth-of-type(1)\"))\n",
    "            undergroud = fill(soup.select(\"div.metro-station-distance:nth-of-type(1)\"))\n",
    "            rooms = fill(soup.select(\"tr:contains('Комнат всего/разд.') strong\"))\n",
    "            floor = fill(soup.select(\"tr:contains('Этаж / этажность') td.table-row-right\"))\n",
    "            square = fill(soup.select(\"tr:contains('Площадь общая/жилая/кухня') strong\"))\n",
    "            height = fill(soup.select(\"tr:contains('Высота потолков') td.table-row-right\"))\n",
    "            build_year = fill(soup.select(\"tr:contains('Год постройки') td.table-row-right\"))\n",
    "            toilet = fill(soup.select(\"tr:contains('Сан/узел') td.table-row-right\"))\n",
    "            balcony = fill(soup.select(\"tr:contains('Балкон') td.table-row-right\"))\n",
    "            pol = fill(soup.select(\"tr:contains('Полы') td.table-row-right\"))\n",
    "            repair = fill(soup.select(\"tr:contains('Ремонт') div:nth-of-type(2)\"))\n",
    "            price = fill(soup.select(\"span.b14.price-byr\"))\n",
    "            terms_sale = fill(soup.select(\"tr:contains('Условия продажи') td.table-row-right\"))\n",
    "            property_ = fill(soup.select(\"tr:contains('Собственность') td.table-row-right\"))\n",
    "            shop = fill(soup.select(\"div.infrastructure-item:nth-of-type(3) strong\"))\n",
    "            pharmacy = fill(soup.select(\"div:nth-of-type(5) strong\"))\n",
    "            updated = fill(soup.select(\"tr:contains('Дата обновления') td.table-row-right\"))\n",
    "            agency = fill(soup.select(\"tr:contains('Агентство') a\"))\n",
    "            video = fill(soup.select(\".no-print p.fl\"))\n",
    "            line = '!!'.join([name, views_num, area, x, y, city, address, district,\n",
    "                       undergroud, rooms, floor, square, height, build_year,\n",
    "                       toilet, balcony, pol, repair, price, terms_sale, \n",
    "                       property_,\n",
    "                                shop,\n",
    "                              pharmacy, \n",
    "                              updated, \n",
    "                              agency,\n",
    "                              video])\n",
    "            file.write(''.join([line, '\\n']))\n",
    "            print(f'{j} ad on {i} page:\\n{line}')\n",
    "                       "
   ]
  },
  {
   "cell_type": "code",
   "execution_count": null,
   "metadata": {},
   "outputs": [],
   "source": []
  }
 ],
 "metadata": {
  "kernelspec": {
   "display_name": "Python 3",
   "language": "python",
   "name": "python3"
  },
  "language_info": {
   "codemirror_mode": {
    "name": "ipython",
    "version": 3
   },
   "file_extension": ".py",
   "mimetype": "text/x-python",
   "name": "python",
   "nbconvert_exporter": "python",
   "pygments_lexer": "ipython3",
   "version": "3.7.3"
  },
  "varInspector": {
   "cols": {
    "lenName": 16,
    "lenType": 16,
    "lenVar": 40
   },
   "kernels_config": {
    "python": {
     "delete_cmd_postfix": "",
     "delete_cmd_prefix": "del ",
     "library": "var_list.py",
     "varRefreshCmd": "print(var_dic_list())"
    },
    "r": {
     "delete_cmd_postfix": ") ",
     "delete_cmd_prefix": "rm(",
     "library": "var_list.r",
     "varRefreshCmd": "cat(var_dic_list()) "
    }
   },
   "types_to_exclude": [
    "module",
    "function",
    "builtin_function_or_method",
    "instance",
    "_Feature"
   ],
   "window_display": false
  }
 },
 "nbformat": 4,
 "nbformat_minor": 2
}
